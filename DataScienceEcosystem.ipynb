{
 "cells": [
  {
   "cell_type": "markdown",
   "id": "1f72b8a5-1099-417f-a150-794a63de3317",
   "metadata": {},
   "source": [
    "## Data Science Tools and Ecosystem"
   ]
  },
  {
   "cell_type": "markdown",
   "id": "29cd2feb-b2e8-45eb-ad22-5bd3e3e7af19",
   "metadata": {},
   "source": [
    "In this notebook, Data Science Tools and Ecosystem are summarized. "
   ]
  },
  {
   "cell_type": "markdown",
   "id": "fd0caf20-829d-4d56-b77e-98f2656ccc73",
   "metadata": {},
   "source": [
    "**Objectives:**\n",
    "- List popular langages for Data Science\n",
    "- List popular Libaries for Data Science\n",
    "- List popular Data Science tools"
   ]
  },
  {
   "cell_type": "markdown",
   "id": "0a2398ee-b377-4554-acef-4f2f432398cb",
   "metadata": {},
   "source": [
    "Some of the popular languages that Data Scientists used are:\n",
    "1. R\n",
    "2. Python \n",
    "3. Java script "
   ]
  },
  {
   "cell_type": "markdown",
   "id": "3168ca95-601d-43e6-9968-7cb22d9f4cbd",
   "metadata": {},
   "source": [
    "Some of the commonly used libraies used by Data Scientists include:"
   ]
  },
  {
   "cell_type": "markdown",
   "id": "fa69dc9d-7046-4402-890e-6a807a06c8fe",
   "metadata": {},
   "source": [
    "1. Plotly\n",
    "2. Matplotlib\n",
    "3. Pandas"
   ]
  },
  {
   "cell_type": "markdown",
   "id": "f4db3fe0-e5d9-4031-b7aa-f903cb624f66",
   "metadata": {},
   "source": [
    "| Data Science Tools |\n",
    "|--------------------|\n",
    "|RStudio|\n",
    "|Apache Spark|\n",
    "|Tensor Flow| "
   ]
  },
  {
   "cell_type": "markdown",
   "id": "c53a5a0a-3008-4d26-a701-0b54187ee376",
   "metadata": {},
   "source": [
    "### Below are a few examples of evaluating arithmetic expressions in Python"
   ]
  },
  {
   "cell_type": "code",
   "execution_count": 5,
   "id": "ace16f1a-9a81-4e44-aa36-7318dbbdc142",
   "metadata": {},
   "outputs": [
    {
     "data": {
      "text/plain": [
       "17"
      ]
     },
     "execution_count": 5,
     "metadata": {},
     "output_type": "execute_result"
    }
   ],
   "source": [
    "#  This a simple arithmetic expression to mutiply then add integers\n",
    "(3*4)+5"
   ]
  },
  {
   "cell_type": "code",
   "execution_count": 6,
   "id": "a5863b07-62fb-4e89-ac30-3ecd143b5870",
   "metadata": {},
   "outputs": [
    {
     "data": {
      "text/plain": [
       "3.3333333333333335"
      ]
     },
     "execution_count": 6,
     "metadata": {},
     "output_type": "execute_result"
    }
   ],
   "source": [
    "# This will convert 200 minutes to hours by dividing by 60.\n",
    "200/60"
   ]
  },
  {
   "cell_type": "markdown",
   "id": "92cae723-6ff0-4dc8-b159-47ab749fc45a",
   "metadata": {},
   "source": [
    "## Author\n",
    "Keegan Malany"
   ]
  },
  {
   "cell_type": "code",
   "execution_count": null,
   "id": "3f074aae-f619-429b-8225-605587271f4e",
   "metadata": {},
   "outputs": [],
   "source": []
  }
 ],
 "metadata": {
  "kernelspec": {
   "display_name": "Python 3 (ipykernel)",
   "language": "python",
   "name": "python3"
  },
  "language_info": {
   "codemirror_mode": {
    "name": "ipython",
    "version": 3
   },
   "file_extension": ".py",
   "mimetype": "text/x-python",
   "name": "python",
   "nbconvert_exporter": "python",
   "pygments_lexer": "ipython3",
   "version": "3.12.7"
  }
 },
 "nbformat": 4,
 "nbformat_minor": 5
}
